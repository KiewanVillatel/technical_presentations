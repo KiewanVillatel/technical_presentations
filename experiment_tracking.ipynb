{
 "cells": [
  {
   "cell_type": "markdown",
   "metadata": {},
   "source": [
    "# Requirements"
   ]
  },
  {
   "cell_type": "markdown",
   "metadata": {},
   "source": [
    "## Install packages"
   ]
  },
  {
   "cell_type": "code",
   "execution_count": 1,
   "metadata": {},
   "outputs": [
    {
     "name": "stdout",
     "output_type": "stream",
     "text": [
      "Requirement already satisfied: sklearn in /home/k.villatel/.conda/envs/technical_presentations/lib/python3.6/site-packages (0.0)\n",
      "Requirement already satisfied: scikit-learn in /home/k.villatel/.conda/envs/technical_presentations/lib/python3.6/site-packages (from sklearn) (0.21.1)\n",
      "Requirement already satisfied: numpy>=1.11.0 in /home/k.villatel/.conda/envs/technical_presentations/lib/python3.6/site-packages (from scikit-learn->sklearn) (1.16.3)\n",
      "Requirement already satisfied: joblib>=0.11 in /home/k.villatel/.conda/envs/technical_presentations/lib/python3.6/site-packages (from scikit-learn->sklearn) (0.13.2)\n",
      "Requirement already satisfied: scipy>=0.17.0 in /home/k.villatel/.conda/envs/technical_presentations/lib/python3.6/site-packages (from scikit-learn->sklearn) (1.3.0)\n",
      "Requirement already satisfied: mlflow in /home/k.villatel/.conda/envs/technical_presentations/lib/python3.6/site-packages (0.9.1)\n",
      "Requirement already satisfied: gitpython>=2.1.0 in /home/k.villatel/.conda/envs/technical_presentations/lib/python3.6/site-packages (from mlflow) (2.1.11)\n",
      "Requirement already satisfied: boto3>=1.7.12 in /home/k.villatel/.conda/envs/technical_presentations/lib/python3.6/site-packages (from mlflow) (1.9.154)\n",
      "Requirement already satisfied: simplejson in /home/k.villatel/.conda/envs/technical_presentations/lib/python3.6/site-packages (from mlflow) (3.16.0)\n",
      "Requirement already satisfied: scipy in /home/k.villatel/.conda/envs/technical_presentations/lib/python3.6/site-packages (from mlflow) (1.3.0)\n",
      "Requirement already satisfied: protobuf>=3.6.0 in /home/k.villatel/.conda/envs/technical_presentations/lib/python3.6/site-packages (from mlflow) (3.7.1)\n",
      "Requirement already satisfied: python-dateutil in /home/k.villatel/.conda/envs/technical_presentations/lib/python3.6/site-packages (from mlflow) (2.8.0)\n",
      "Requirement already satisfied: click>=7.0 in /home/k.villatel/.conda/envs/technical_presentations/lib/python3.6/site-packages (from mlflow) (7.0)\n",
      "Requirement already satisfied: requests>=2.17.3 in /home/k.villatel/.conda/envs/technical_presentations/lib/python3.6/site-packages (from mlflow) (2.22.0)\n",
      "Requirement already satisfied: entrypoints in /home/k.villatel/.conda/envs/technical_presentations/lib/python3.6/site-packages (from mlflow) (0.3)\n",
      "Requirement already satisfied: numpy in /home/k.villatel/.conda/envs/technical_presentations/lib/python3.6/site-packages (from mlflow) (1.16.3)\n",
      "Requirement already satisfied: docker>=3.6.0 in /home/k.villatel/.conda/envs/technical_presentations/lib/python3.6/site-packages (from mlflow) (4.0.1)\n",
      "Requirement already satisfied: querystring-parser in /home/k.villatel/.conda/envs/technical_presentations/lib/python3.6/site-packages (from mlflow) (1.2.3)\n",
      "Requirement already satisfied: pandas in /home/k.villatel/.conda/envs/technical_presentations/lib/python3.6/site-packages (from mlflow) (0.24.2)\n",
      "Requirement already satisfied: sqlparse in /home/k.villatel/.conda/envs/technical_presentations/lib/python3.6/site-packages (from mlflow) (0.3.0)\n",
      "Requirement already satisfied: Flask in /home/k.villatel/.conda/envs/technical_presentations/lib/python3.6/site-packages (from mlflow) (1.0.3)\n",
      "Requirement already satisfied: pyyaml in /home/k.villatel/.conda/envs/technical_presentations/lib/python3.6/site-packages (from mlflow) (5.1)\n",
      "Requirement already satisfied: six>=1.10.0 in /home/k.villatel/.conda/envs/technical_presentations/lib/python3.6/site-packages (from mlflow) (1.12.0)\n",
      "Requirement already satisfied: gunicorn in /home/k.villatel/.conda/envs/technical_presentations/lib/python3.6/site-packages (from mlflow) (19.9.0)\n",
      "Requirement already satisfied: scikit-learn in /home/k.villatel/.conda/envs/technical_presentations/lib/python3.6/site-packages (from mlflow) (0.21.1)\n",
      "Requirement already satisfied: databricks-cli>=0.8.0 in /home/k.villatel/.conda/envs/technical_presentations/lib/python3.6/site-packages (from mlflow) (0.8.6)\n",
      "Requirement already satisfied: cloudpickle in /home/k.villatel/.conda/envs/technical_presentations/lib/python3.6/site-packages (from mlflow) (1.1.1)\n",
      "Requirement already satisfied: mleap>=0.8.1 in /home/k.villatel/.conda/envs/technical_presentations/lib/python3.6/site-packages (from mlflow) (0.8.1)\n",
      "Requirement already satisfied: gitdb2>=2.0.0 in /home/k.villatel/.conda/envs/technical_presentations/lib/python3.6/site-packages (from gitpython>=2.1.0->mlflow) (2.0.5)\n",
      "Requirement already satisfied: jmespath<1.0.0,>=0.7.1 in /home/k.villatel/.conda/envs/technical_presentations/lib/python3.6/site-packages (from boto3>=1.7.12->mlflow) (0.9.4)\n",
      "Requirement already satisfied: botocore<1.13.0,>=1.12.154 in /home/k.villatel/.conda/envs/technical_presentations/lib/python3.6/site-packages (from boto3>=1.7.12->mlflow) (1.12.154)\n",
      "Requirement already satisfied: s3transfer<0.3.0,>=0.2.0 in /home/k.villatel/.conda/envs/technical_presentations/lib/python3.6/site-packages (from boto3>=1.7.12->mlflow) (0.2.0)\n",
      "Requirement already satisfied: setuptools in /home/k.villatel/.conda/envs/technical_presentations/lib/python3.6/site-packages (from protobuf>=3.6.0->mlflow) (41.0.1)\n",
      "Requirement already satisfied: certifi>=2017.4.17 in /home/k.villatel/.conda/envs/technical_presentations/lib/python3.6/site-packages (from requests>=2.17.3->mlflow) (2019.3.9)\n",
      "Requirement already satisfied: chardet<3.1.0,>=3.0.2 in /home/k.villatel/.conda/envs/technical_presentations/lib/python3.6/site-packages (from requests>=2.17.3->mlflow) (3.0.4)\n",
      "Requirement already satisfied: urllib3!=1.25.0,!=1.25.1,<1.26,>=1.21.1 in /home/k.villatel/.conda/envs/technical_presentations/lib/python3.6/site-packages (from requests>=2.17.3->mlflow) (1.25.2)\n",
      "Requirement already satisfied: idna<2.9,>=2.5 in /home/k.villatel/.conda/envs/technical_presentations/lib/python3.6/site-packages (from requests>=2.17.3->mlflow) (2.8)\n",
      "Requirement already satisfied: websocket-client>=0.32.0 in /home/k.villatel/.conda/envs/technical_presentations/lib/python3.6/site-packages (from docker>=3.6.0->mlflow) (0.56.0)\n",
      "Requirement already satisfied: pytz>=2011k in /home/k.villatel/.conda/envs/technical_presentations/lib/python3.6/site-packages (from pandas->mlflow) (2019.1)\n",
      "Requirement already satisfied: itsdangerous>=0.24 in /home/k.villatel/.conda/envs/technical_presentations/lib/python3.6/site-packages (from Flask->mlflow) (1.1.0)\n",
      "Requirement already satisfied: Werkzeug>=0.14 in /home/k.villatel/.conda/envs/technical_presentations/lib/python3.6/site-packages (from Flask->mlflow) (0.15.4)\n",
      "Requirement already satisfied: Jinja2>=2.10 in /home/k.villatel/.conda/envs/technical_presentations/lib/python3.6/site-packages (from Flask->mlflow) (2.10.1)\n",
      "Requirement already satisfied: joblib>=0.11 in /home/k.villatel/.conda/envs/technical_presentations/lib/python3.6/site-packages (from scikit-learn->mlflow) (0.13.2)\n",
      "Requirement already satisfied: configparser>=0.3.5 in /home/k.villatel/.conda/envs/technical_presentations/lib/python3.6/site-packages (from databricks-cli>=0.8.0->mlflow) (3.7.4)\n",
      "Requirement already satisfied: tabulate>=0.7.7 in /home/k.villatel/.conda/envs/technical_presentations/lib/python3.6/site-packages (from databricks-cli>=0.8.0->mlflow) (0.8.3)\n",
      "Requirement already satisfied: nose-exclude>=0.5.0 in /home/k.villatel/.conda/envs/technical_presentations/lib/python3.6/site-packages (from mleap>=0.8.1->mlflow) (0.5.0)\n",
      "Requirement already satisfied: argparse>=1.1 in /home/k.villatel/.conda/envs/technical_presentations/lib/python3.6/site-packages (from mleap>=0.8.1->mlflow) (1.4.0)\n",
      "Requirement already satisfied: smmap2>=2.0.0 in /home/k.villatel/.conda/envs/technical_presentations/lib/python3.6/site-packages (from gitdb2>=2.0.0->gitpython>=2.1.0->mlflow) (2.0.5)\n",
      "Requirement already satisfied: docutils>=0.10 in /home/k.villatel/.conda/envs/technical_presentations/lib/python3.6/site-packages (from botocore<1.13.0,>=1.12.154->boto3>=1.7.12->mlflow) (0.14)\n",
      "Requirement already satisfied: MarkupSafe>=0.23 in /home/k.villatel/.conda/envs/technical_presentations/lib/python3.6/site-packages (from Jinja2>=2.10->Flask->mlflow) (1.1.1)\n",
      "Requirement already satisfied: nose in /home/k.villatel/.conda/envs/technical_presentations/lib/python3.6/site-packages (from nose-exclude>=0.5.0->mleap>=0.8.1->mlflow) (1.3.7)\n",
      "Requirement already satisfied: numpy in /home/k.villatel/.conda/envs/technical_presentations/lib/python3.6/site-packages (1.16.3)\n"
     ]
    },
    {
     "name": "stdout",
     "output_type": "stream",
     "text": [
      "Requirement already satisfied: seaborn in /home/k.villatel/.conda/envs/technical_presentations/lib/python3.6/site-packages (0.9.0)\n",
      "Requirement already satisfied: scipy>=0.14.0 in /home/k.villatel/.conda/envs/technical_presentations/lib/python3.6/site-packages (from seaborn) (1.3.0)\n",
      "Requirement already satisfied: matplotlib>=1.4.3 in /home/k.villatel/.conda/envs/technical_presentations/lib/python3.6/site-packages (from seaborn) (3.1.0)\n",
      "Requirement already satisfied: numpy>=1.9.3 in /home/k.villatel/.conda/envs/technical_presentations/lib/python3.6/site-packages (from seaborn) (1.16.3)\n",
      "Requirement already satisfied: pandas>=0.15.2 in /home/k.villatel/.conda/envs/technical_presentations/lib/python3.6/site-packages (from seaborn) (0.24.2)\n",
      "Requirement already satisfied: pyparsing!=2.0.4,!=2.1.2,!=2.1.6,>=2.0.1 in /home/k.villatel/.conda/envs/technical_presentations/lib/python3.6/site-packages (from matplotlib>=1.4.3->seaborn) (2.4.0)\n",
      "Requirement already satisfied: cycler>=0.10 in /home/k.villatel/.conda/envs/technical_presentations/lib/python3.6/site-packages (from matplotlib>=1.4.3->seaborn) (0.10.0)\n",
      "Requirement already satisfied: kiwisolver>=1.0.1 in /home/k.villatel/.conda/envs/technical_presentations/lib/python3.6/site-packages (from matplotlib>=1.4.3->seaborn) (1.1.0)\n",
      "Requirement already satisfied: python-dateutil>=2.1 in /home/k.villatel/.conda/envs/technical_presentations/lib/python3.6/site-packages (from matplotlib>=1.4.3->seaborn) (2.8.0)\n",
      "Requirement already satisfied: pytz>=2011k in /home/k.villatel/.conda/envs/technical_presentations/lib/python3.6/site-packages (from pandas>=0.15.2->seaborn) (2019.1)\n",
      "Requirement already satisfied: six in /home/k.villatel/.conda/envs/technical_presentations/lib/python3.6/site-packages (from cycler>=0.10->matplotlib>=1.4.3->seaborn) (1.12.0)\n",
      "Requirement already satisfied: setuptools in /home/k.villatel/.conda/envs/technical_presentations/lib/python3.6/site-packages (from kiwisolver>=1.0.1->matplotlib>=1.4.3->seaborn) (41.0.1)\n",
      "Requirement already satisfied: pandas in /home/k.villatel/.conda/envs/technical_presentations/lib/python3.6/site-packages (0.24.2)\n",
      "Requirement already satisfied: pytz>=2011k in /home/k.villatel/.conda/envs/technical_presentations/lib/python3.6/site-packages (from pandas) (2019.1)\n",
      "Requirement already satisfied: numpy>=1.12.0 in /home/k.villatel/.conda/envs/technical_presentations/lib/python3.6/site-packages (from pandas) (1.16.3)\n",
      "Requirement already satisfied: python-dateutil>=2.5.0 in /home/k.villatel/.conda/envs/technical_presentations/lib/python3.6/site-packages (from pandas) (2.8.0)\n",
      "Requirement already satisfied: six>=1.5 in /home/k.villatel/.conda/envs/technical_presentations/lib/python3.6/site-packages (from python-dateutil>=2.5.0->pandas) (1.12.0)\n"
     ]
    }
   ],
   "source": [
    "import sys\n",
    "\n",
    "!{sys.executable} -m pip install sklearn\n",
    "!{sys.executable} -m pip install mlflow\n",
    "!{sys.executable} -m pip install numpy\n",
    "!{sys.executable} -m pip install seaborn\n",
    "!{sys.executable} -m pip install pandas"
   ]
  },
  {
   "cell_type": "markdown",
   "metadata": {},
   "source": [
    "## Imports"
   ]
  },
  {
   "cell_type": "code",
   "execution_count": 2,
   "metadata": {},
   "outputs": [],
   "source": [
    "import sklearn.datasets\n",
    "from sklearn.model_selection import train_test_split\n",
    "from sklearn.neural_network import MLPClassifier\n",
    "from sklearn.linear_model import LogisticRegression\n",
    "from sklearn.metrics import accuracy_score\n",
    "import mlflow\n",
    "import numpy as np\n",
    "import seaborn as sns\n",
    "import pandas as pd"
   ]
  },
  {
   "cell_type": "markdown",
   "metadata": {},
   "source": [
    "## Download dataset"
   ]
  },
  {
   "cell_type": "code",
   "execution_count": 3,
   "metadata": {},
   "outputs": [],
   "source": [
    "mnist = sklearn.datasets.load_digits()"
   ]
  },
  {
   "cell_type": "code",
   "execution_count": 4,
   "metadata": {},
   "outputs": [],
   "source": [
    "X = mnist.data\n",
    "Y = mnist.target\n",
    "\n",
    "X_train, X_test, y_train, y_test = train_test_split(X, Y)"
   ]
  },
  {
   "cell_type": "markdown",
   "metadata": {},
   "source": [
    "# Experiment tracking"
   ]
  },
  {
   "cell_type": "markdown",
   "metadata": {},
   "source": [
    "## Simple example"
   ]
  },
  {
   "cell_type": "code",
   "execution_count": 5,
   "metadata": {},
   "outputs": [
    {
     "data": {
      "image/png": "[encoded data removed]",
      "text/plain": [
       "<Figure size 432x288 with 1 Axes>"
      ]
     },
     "metadata": {
      "needs_background": "light"
     },
     "output_type": "display_data"
    }
   ],
   "source": [
    "# Start a ML flow experiemnt\n",
    "with mlflow.start_run():\n",
    "    \n",
    "    # Log parameters\n",
    "    mlflow.log_param(\"Param1\", 0)\n",
    "    mlflow.log_param(\"Param2\", 1)\n",
    "    \n",
    "    # Log metrics\n",
    "    mlflow.log_metric(\"Metric1\", 2)\n",
    "    mlflow.log_metric(\"Metric2\", 3)\n",
    "    \n",
    "    # Log tag\n",
    "    mlflow.set_tag(\"user_name\", \"k.villatel\")\n",
    "    \n",
    "    # Log artifacts\n",
    "    sns_plot = sns.violinplot(x=\"x\", data=pd.DataFrame(columns=[\"x\"], data=np.random.randn(1000)))\n",
    "    fig = sns_plot.get_figure() \n",
    "    fig.savefig(\"fig.png\")\n",
    "    mlflow.log_artifact(\"fig.png\")"
   ]
  },
  {
   "cell_type": "markdown",
   "metadata": {},
   "source": [
    "Experiment can now be accessed with `mlflow ui` command."
   ]
  },
  {
   "cell_type": "markdown",
   "metadata": {},
   "source": [
    "# Build models"
   ]
  },
  {
   "cell_type": "code",
   "execution_count": 6,
   "metadata": {},
   "outputs": [],
   "source": [
    "def compute_accuracy(y_true, y_pred):\n",
    "    acc = accuracy_score(y_true=y_true, y_pred=y_pred)\n",
    "    mlflow.log_metric(\"Accuracy\", acc)"
   ]
  },
  {
   "cell_type": "code",
   "execution_count": 7,
   "metadata": {},
   "outputs": [],
   "source": [
    "def multinomial_log_reg_model(max_iter=100):\n",
    "    with mlflow.start_run(nested=True):\n",
    "        # Log params in ml flow\n",
    "        mlflow.log_param(\"algo\", \"multinomial log reg\")\n",
    "        mlflow.log_param(\"max_iter\", max_iter)\n",
    "\n",
    "        # Build classifier\n",
    "        classifier = LogisticRegression(multi_class='multinomial', solver='lbfgs', max_iter=max_iter)\n",
    "\n",
    "        # Fit\n",
    "        classifier.fit(X=X_train, y=y_train.reshape((-1, 1)))\n",
    "\n",
    "        # Evaluate\n",
    "        y_pred = classifier.predict(X=X_test)\n",
    "\n",
    "        compute_accuracy(y_true=y_test, y_pred=y_pred)"
   ]
  },
  {
   "cell_type": "markdown",
   "metadata": {},
   "source": [
    "# Experiment tracking"
   ]
  },
  {
   "cell_type": "code",
   "execution_count": 8,
   "metadata": {},
   "outputs": [],
   "source": [
    "mlflow.set_experiment(experiment_name=\"mnist\")"
   ]
  },
  {
   "cell_type": "code",
   "execution_count": 9,
   "metadata": {},
   "outputs": [
    {
     "name": "stderr",
     "output_type": "stream",
     "text": [
      "/home/k.villatel/.conda/envs/technical_presentations/lib/python3.6/site-packages/sklearn/utils/validation.py:724: DataConversionWarning: A column-vector y was passed when a 1d array was expected. Please change the shape of y to (n_samples, ), for example using ravel().\n",
      "  y = column_or_1d(y, warn=True)\n",
      "/home/k.villatel/.conda/envs/technical_presentations/lib/python3.6/site-packages/sklearn/linear_model/logistic.py:947: ConvergenceWarning: lbfgs failed to converge. Increase the number of iterations.\n",
      "  \"of iterations.\", ConvergenceWarning)\n",
      "/home/k.villatel/.conda/envs/technical_presentations/lib/python3.6/site-packages/sklearn/utils/validation.py:724: DataConversionWarning: A column-vector y was passed when a 1d array was expected. Please change the shape of y to (n_samples, ), for example using ravel().\n",
      "  y = column_or_1d(y, warn=True)\n",
      "/home/k.villatel/.conda/envs/technical_presentations/lib/python3.6/site-packages/sklearn/linear_model/logistic.py:947: ConvergenceWarning: lbfgs failed to converge. Increase the number of iterations.\n",
      "  \"of iterations.\", ConvergenceWarning)\n",
      "/home/k.villatel/.conda/envs/technical_presentations/lib/python3.6/site-packages/sklearn/utils/validation.py:724: DataConversionWarning: A column-vector y was passed when a 1d array was expected. Please change the shape of y to (n_samples, ), for example using ravel().\n",
      "  y = column_or_1d(y, warn=True)\n",
      "/home/k.villatel/.conda/envs/technical_presentations/lib/python3.6/site-packages/sklearn/linear_model/logistic.py:947: ConvergenceWarning: lbfgs failed to converge. Increase the number of iterations.\n",
      "  \"of iterations.\", ConvergenceWarning)\n",
      "/home/k.villatel/.conda/envs/technical_presentations/lib/python3.6/site-packages/sklearn/utils/validation.py:724: DataConversionWarning: A column-vector y was passed when a 1d array was expected. Please change the shape of y to (n_samples, ), for example using ravel().\n",
      "  y = column_or_1d(y, warn=True)\n"
     ]
    }
   ],
   "source": [
    "with mlflow.start_run():\n",
    "    for max_iter in [10, 100, 1000, 10000]:\n",
    "        multinomial_log_reg_model(max_iter=max_iter)"
   ]
  },
  {
   "cell_type": "code",
   "execution_count": null,
   "metadata": {},
   "outputs": [],
   "source": []
  }
 ],
 "metadata": {
  "kernelspec": {
   "display_name": "Python 3",
   "language": "python",
   "name": "python3"
  },
  "language_info": {
   "codemirror_mode": {
    "name": "ipython",
    "version": 3
   },
   "file_extension": ".py",
   "mimetype": "text/x-python",
   "name": "python",
   "nbconvert_exporter": "python",
   "pygments_lexer": "ipython3",
   "version": "3.6.8"
  }
 },
 "nbformat": 4,
 "nbformat_minor": 2
}
