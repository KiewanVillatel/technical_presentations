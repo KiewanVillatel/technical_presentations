{
 "cells": [
  {
   "cell_type": "markdown",
   "metadata": {},
   "source": [
    "# Requirements"
   ]
  },
  {
   "cell_type": "markdown",
   "metadata": {},
   "source": [
    "## Install packages"
   ]
  },
  {
   "cell_type": "code",
   "execution_count": 1,
   "metadata": {},
   "outputs": [
    {
     "name": "stdout",
     "output_type": "stream",
     "text": [
      "Requirement already satisfied: sklearn in /home/k.villatel/.conda/envs/technical_presentations/lib/python3.6/site-packages (0.0)\n",
      "Requirement already satisfied: scikit-learn in /home/k.villatel/.conda/envs/technical_presentations/lib/python3.6/site-packages (from sklearn) (0.21.1)\n",
      "Requirement already satisfied: numpy>=1.11.0 in /home/k.villatel/.conda/envs/technical_presentations/lib/python3.6/site-packages (from scikit-learn->sklearn) (1.16.3)\n",
      "Requirement already satisfied: scipy>=0.17.0 in /home/k.villatel/.conda/envs/technical_presentations/lib/python3.6/site-packages (from scikit-learn->sklearn) (1.3.0)\n",
      "Requirement already satisfied: joblib>=0.11 in /home/k.villatel/.conda/envs/technical_presentations/lib/python3.6/site-packages (from scikit-learn->sklearn) (0.13.2)\n",
      "Requirement already satisfied: mlflow in /home/k.villatel/.conda/envs/technical_presentations/lib/python3.6/site-packages (0.9.1)\n",
      "Requirement already satisfied: cloudpickle in /home/k.villatel/.conda/envs/technical_presentations/lib/python3.6/site-packages (from mlflow) (1.1.1)\n",
      "Requirement already satisfied: protobuf>=3.6.0 in /home/k.villatel/.conda/envs/technical_presentations/lib/python3.6/site-packages (from mlflow) (3.7.1)\n",
      "Requirement already satisfied: scipy in /home/k.villatel/.conda/envs/technical_presentations/lib/python3.6/site-packages (from mlflow) (1.3.0)\n",
      "Requirement already satisfied: querystring-parser in /home/k.villatel/.conda/envs/technical_presentations/lib/python3.6/site-packages (from mlflow) (1.2.3)\n",
      "Requirement already satisfied: simplejson in /home/k.villatel/.conda/envs/technical_presentations/lib/python3.6/site-packages (from mlflow) (3.16.0)\n",
      "Requirement already satisfied: pyyaml in /home/k.villatel/.conda/envs/technical_presentations/lib/python3.6/site-packages (from mlflow) (5.1)\n",
      "Requirement already satisfied: boto3>=1.7.12 in /home/k.villatel/.conda/envs/technical_presentations/lib/python3.6/site-packages (from mlflow) (1.9.154)\n",
      "Requirement already satisfied: scikit-learn in /home/k.villatel/.conda/envs/technical_presentations/lib/python3.6/site-packages (from mlflow) (0.21.1)\n",
      "Requirement already satisfied: gitpython>=2.1.0 in /home/k.villatel/.conda/envs/technical_presentations/lib/python3.6/site-packages (from mlflow) (2.1.11)\n",
      "Requirement already satisfied: requests>=2.17.3 in /home/k.villatel/.conda/envs/technical_presentations/lib/python3.6/site-packages (from mlflow) (2.22.0)\n",
      "Requirement already satisfied: numpy in /home/k.villatel/.conda/envs/technical_presentations/lib/python3.6/site-packages (from mlflow) (1.16.3)\n",
      "Requirement already satisfied: python-dateutil in /home/k.villatel/.conda/envs/technical_presentations/lib/python3.6/site-packages (from mlflow) (2.8.0)\n",
      "Requirement already satisfied: gunicorn in /home/k.villatel/.conda/envs/technical_presentations/lib/python3.6/site-packages (from mlflow) (19.9.0)\n",
      "Requirement already satisfied: Flask in /home/k.villatel/.conda/envs/technical_presentations/lib/python3.6/site-packages (from mlflow) (1.0.3)\n",
      "Requirement already satisfied: pandas in /home/k.villatel/.conda/envs/technical_presentations/lib/python3.6/site-packages (from mlflow) (0.24.2)\n",
      "Requirement already satisfied: docker>=3.6.0 in /home/k.villatel/.conda/envs/technical_presentations/lib/python3.6/site-packages (from mlflow) (4.0.1)\n",
      "Requirement already satisfied: mleap>=0.8.1 in /home/k.villatel/.conda/envs/technical_presentations/lib/python3.6/site-packages (from mlflow) (0.8.1)\n",
      "Requirement already satisfied: six>=1.10.0 in /home/k.villatel/.conda/envs/technical_presentations/lib/python3.6/site-packages (from mlflow) (1.12.0)\n",
      "Requirement already satisfied: click>=7.0 in /home/k.villatel/.conda/envs/technical_presentations/lib/python3.6/site-packages (from mlflow) (7.0)\n",
      "Requirement already satisfied: databricks-cli>=0.8.0 in /home/k.villatel/.conda/envs/technical_presentations/lib/python3.6/site-packages (from mlflow) (0.8.6)\n",
      "Requirement already satisfied: sqlparse in /home/k.villatel/.conda/envs/technical_presentations/lib/python3.6/site-packages (from mlflow) (0.3.0)\n",
      "Requirement already satisfied: entrypoints in /home/k.villatel/.conda/envs/technical_presentations/lib/python3.6/site-packages (from mlflow) (0.3)\n",
      "Requirement already satisfied: setuptools in /home/k.villatel/.conda/envs/technical_presentations/lib/python3.6/site-packages (from protobuf>=3.6.0->mlflow) (41.0.1)\n",
      "Requirement already satisfied: s3transfer<0.3.0,>=0.2.0 in /home/k.villatel/.conda/envs/technical_presentations/lib/python3.6/site-packages (from boto3>=1.7.12->mlflow) (0.2.0)\n",
      "Requirement already satisfied: botocore<1.13.0,>=1.12.154 in /home/k.villatel/.conda/envs/technical_presentations/lib/python3.6/site-packages (from boto3>=1.7.12->mlflow) (1.12.154)\n",
      "Requirement already satisfied: jmespath<1.0.0,>=0.7.1 in /home/k.villatel/.conda/envs/technical_presentations/lib/python3.6/site-packages (from boto3>=1.7.12->mlflow) (0.9.4)\n",
      "Requirement already satisfied: joblib>=0.11 in /home/k.villatel/.conda/envs/technical_presentations/lib/python3.6/site-packages (from scikit-learn->mlflow) (0.13.2)\n",
      "Requirement already satisfied: gitdb2>=2.0.0 in /home/k.villatel/.conda/envs/technical_presentations/lib/python3.6/site-packages (from gitpython>=2.1.0->mlflow) (2.0.5)\n",
      "Requirement already satisfied: idna<2.9,>=2.5 in /home/k.villatel/.conda/envs/technical_presentations/lib/python3.6/site-packages (from requests>=2.17.3->mlflow) (2.8)\n",
      "Requirement already satisfied: certifi>=2017.4.17 in /home/k.villatel/.conda/envs/technical_presentations/lib/python3.6/site-packages (from requests>=2.17.3->mlflow) (2019.3.9)\n",
      "Requirement already satisfied: urllib3!=1.25.0,!=1.25.1,<1.26,>=1.21.1 in /home/k.villatel/.conda/envs/technical_presentations/lib/python3.6/site-packages (from requests>=2.17.3->mlflow) (1.25.2)\n",
      "Requirement already satisfied: chardet<3.1.0,>=3.0.2 in /home/k.villatel/.conda/envs/technical_presentations/lib/python3.6/site-packages (from requests>=2.17.3->mlflow) (3.0.4)\n",
      "Requirement already satisfied: itsdangerous>=0.24 in /home/k.villatel/.conda/envs/technical_presentations/lib/python3.6/site-packages (from Flask->mlflow) (1.1.0)\n",
      "Requirement already satisfied: Werkzeug>=0.14 in /home/k.villatel/.conda/envs/technical_presentations/lib/python3.6/site-packages (from Flask->mlflow) (0.15.4)\n",
      "Requirement already satisfied: Jinja2>=2.10 in /home/k.villatel/.conda/envs/technical_presentations/lib/python3.6/site-packages (from Flask->mlflow) (2.10.1)\n",
      "Requirement already satisfied: pytz>=2011k in /home/k.villatel/.conda/envs/technical_presentations/lib/python3.6/site-packages (from pandas->mlflow) (2019.1)\n",
      "Requirement already satisfied: websocket-client>=0.32.0 in /home/k.villatel/.conda/envs/technical_presentations/lib/python3.6/site-packages (from docker>=3.6.0->mlflow) (0.56.0)\n",
      "Requirement already satisfied: argparse>=1.1 in /home/k.villatel/.conda/envs/technical_presentations/lib/python3.6/site-packages (from mleap>=0.8.1->mlflow) (1.4.0)\n",
      "Requirement already satisfied: nose-exclude>=0.5.0 in /home/k.villatel/.conda/envs/technical_presentations/lib/python3.6/site-packages (from mleap>=0.8.1->mlflow) (0.5.0)\n",
      "Requirement already satisfied: tabulate>=0.7.7 in /home/k.villatel/.conda/envs/technical_presentations/lib/python3.6/site-packages (from databricks-cli>=0.8.0->mlflow) (0.8.3)\n",
      "Requirement already satisfied: configparser>=0.3.5 in /home/k.villatel/.conda/envs/technical_presentations/lib/python3.6/site-packages (from databricks-cli>=0.8.0->mlflow) (3.7.4)\n",
      "Requirement already satisfied: docutils>=0.10 in /home/k.villatel/.conda/envs/technical_presentations/lib/python3.6/site-packages (from botocore<1.13.0,>=1.12.154->boto3>=1.7.12->mlflow) (0.14)\n",
      "Requirement already satisfied: smmap2>=2.0.0 in /home/k.villatel/.conda/envs/technical_presentations/lib/python3.6/site-packages (from gitdb2>=2.0.0->gitpython>=2.1.0->mlflow) (2.0.5)\n",
      "Requirement already satisfied: MarkupSafe>=0.23 in /home/k.villatel/.conda/envs/technical_presentations/lib/python3.6/site-packages (from Jinja2>=2.10->Flask->mlflow) (1.1.1)\n",
      "Requirement already satisfied: nose in /home/k.villatel/.conda/envs/technical_presentations/lib/python3.6/site-packages (from nose-exclude>=0.5.0->mleap>=0.8.1->mlflow) (1.3.7)\n",
      "Requirement already satisfied: numpy in /home/k.villatel/.conda/envs/technical_presentations/lib/python3.6/site-packages (1.16.3)\n"
     ]
    },
    {
     "name": "stdout",
     "output_type": "stream",
     "text": [
      "Requirement already satisfied: seaborn in /home/k.villatel/.conda/envs/technical_presentations/lib/python3.6/site-packages (0.9.0)\n",
      "Requirement already satisfied: numpy>=1.9.3 in /home/k.villatel/.conda/envs/technical_presentations/lib/python3.6/site-packages (from seaborn) (1.16.3)\n",
      "Requirement already satisfied: pandas>=0.15.2 in /home/k.villatel/.conda/envs/technical_presentations/lib/python3.6/site-packages (from seaborn) (0.24.2)\n",
      "Requirement already satisfied: scipy>=0.14.0 in /home/k.villatel/.conda/envs/technical_presentations/lib/python3.6/site-packages (from seaborn) (1.3.0)\n",
      "Requirement already satisfied: matplotlib>=1.4.3 in /home/k.villatel/.conda/envs/technical_presentations/lib/python3.6/site-packages (from seaborn) (3.1.0)\n",
      "Requirement already satisfied: python-dateutil>=2.5.0 in /home/k.villatel/.conda/envs/technical_presentations/lib/python3.6/site-packages (from pandas>=0.15.2->seaborn) (2.8.0)\n",
      "Requirement already satisfied: pytz>=2011k in /home/k.villatel/.conda/envs/technical_presentations/lib/python3.6/site-packages (from pandas>=0.15.2->seaborn) (2019.1)\n",
      "Requirement already satisfied: kiwisolver>=1.0.1 in /home/k.villatel/.conda/envs/technical_presentations/lib/python3.6/site-packages (from matplotlib>=1.4.3->seaborn) (1.1.0)\n",
      "Requirement already satisfied: pyparsing!=2.0.4,!=2.1.2,!=2.1.6,>=2.0.1 in /home/k.villatel/.conda/envs/technical_presentations/lib/python3.6/site-packages (from matplotlib>=1.4.3->seaborn) (2.4.0)\n",
      "Requirement already satisfied: cycler>=0.10 in /home/k.villatel/.conda/envs/technical_presentations/lib/python3.6/site-packages (from matplotlib>=1.4.3->seaborn) (0.10.0)\n",
      "Requirement already satisfied: six>=1.5 in /home/k.villatel/.conda/envs/technical_presentations/lib/python3.6/site-packages (from python-dateutil>=2.5.0->pandas>=0.15.2->seaborn) (1.12.0)\n",
      "Requirement already satisfied: setuptools in /home/k.villatel/.conda/envs/technical_presentations/lib/python3.6/site-packages (from kiwisolver>=1.0.1->matplotlib>=1.4.3->seaborn) (41.0.1)\n",
      "Requirement already satisfied: pandas in /home/k.villatel/.conda/envs/technical_presentations/lib/python3.6/site-packages (0.24.2)\n",
      "Requirement already satisfied: python-dateutil>=2.5.0 in /home/k.villatel/.conda/envs/technical_presentations/lib/python3.6/site-packages (from pandas) (2.8.0)\n",
      "Requirement already satisfied: pytz>=2011k in /home/k.villatel/.conda/envs/technical_presentations/lib/python3.6/site-packages (from pandas) (2019.1)\n",
      "Requirement already satisfied: numpy>=1.12.0 in /home/k.villatel/.conda/envs/technical_presentations/lib/python3.6/site-packages (from pandas) (1.16.3)\n",
      "Requirement already satisfied: six>=1.5 in /home/k.villatel/.conda/envs/technical_presentations/lib/python3.6/site-packages (from python-dateutil>=2.5.0->pandas) (1.12.0)\n",
      "Requirement already satisfied: hyperopt in /home/k.villatel/.conda/envs/technical_presentations/lib/python3.6/site-packages (0.1.2)\n",
      "Requirement already satisfied: pymongo in /home/k.villatel/.conda/envs/technical_presentations/lib/python3.6/site-packages (from hyperopt) (3.8.0)\n",
      "Requirement already satisfied: numpy in /home/k.villatel/.conda/envs/technical_presentations/lib/python3.6/site-packages (from hyperopt) (1.16.3)\n",
      "Requirement already satisfied: tqdm in /home/k.villatel/.conda/envs/technical_presentations/lib/python3.6/site-packages (from hyperopt) (4.32.1)\n",
      "Requirement already satisfied: future in /home/k.villatel/.conda/envs/technical_presentations/lib/python3.6/site-packages (from hyperopt) (0.17.1)\n",
      "Requirement already satisfied: networkx in /home/k.villatel/.conda/envs/technical_presentations/lib/python3.6/site-packages (from hyperopt) (2.3)\n",
      "Requirement already satisfied: scipy in /home/k.villatel/.conda/envs/technical_presentations/lib/python3.6/site-packages (from hyperopt) (1.3.0)\n",
      "Requirement already satisfied: six in /home/k.villatel/.conda/envs/technical_presentations/lib/python3.6/site-packages (from hyperopt) (1.12.0)\n",
      "Requirement already satisfied: decorator>=4.3.0 in /home/k.villatel/.conda/envs/technical_presentations/lib/python3.6/site-packages (from networkx->hyperopt) (4.4.0)\n"
     ]
    }
   ],
   "source": [
    "import sys\n",
    "\n",
    "!{sys.executable} -m pip install sklearn\n",
    "!{sys.executable} -m pip install mlflow\n",
    "!{sys.executable} -m pip install numpy\n",
    "!{sys.executable} -m pip install seaborn\n",
    "!{sys.executable} -m pip install pandas\n",
    "!{sys.executable} -m pip install hyperopt"
   ]
  },
  {
   "cell_type": "markdown",
   "metadata": {},
   "source": [
    "## Imports"
   ]
  },
  {
   "cell_type": "code",
   "execution_count": 2,
   "metadata": {},
   "outputs": [],
   "source": [
    "import mlflow\n",
    "import time\n",
    "import sklearn\n",
    "import numpy as np\n",
    "import seaborn as sns\n",
    "import pandas as pd\n",
    "import getpass\n",
    "import random\n",
    "from hyperopt import hp, fmin, tpe, space_eval\n",
    "import mlflow.pyfunc"
   ]
  },
  {
   "cell_type": "markdown",
   "metadata": {},
   "source": [
    "# Experiment tracking with ML Flow"
   ]
  },
  {
   "cell_type": "markdown",
   "metadata": {},
   "source": [
    "MLflow (currently in beta) is an open source platform to manage the ML lifecycle, including experimentation, reproducibility and deployment.\n",
    "\n",
    "![ML flow](img/introduction-to-mlflow-11-638.jpg)"
   ]
  },
  {
   "cell_type": "markdown",
   "metadata": {},
   "source": [
    "## Simple example"
   ]
  },
  {
   "cell_type": "code",
   "execution_count": 3,
   "metadata": {},
   "outputs": [
    {
     "data": {
      "image/png": "[encoded data removed]",
      "text/plain": [
       "<Figure size 432x288 with 1 Axes>"
      ]
     },
     "metadata": {
      "needs_background": "light"
     },
     "output_type": "display_data"
    }
   ],
   "source": [
    "# Create a new experiment or use existing one\n",
    "mlflow.set_experiment(experiment_name=\"simple_example\")\n",
    "\n",
    "# Start a ML flow experiment\n",
    "with mlflow.start_run():\n",
    "    \n",
    "    # Log parameters\n",
    "    mlflow.log_param(\"Param1\", random.randint(0, 10))\n",
    "    mlflow.log_param(\"Param2\", random.randint(0, 10))\n",
    "    \n",
    "    # Log metrics\n",
    "    mlflow.log_metric(\"Metric1\", random.random())\n",
    "    mlflow.log_metric(\"Metric2\", random.random())\n",
    "    \n",
    "    # Log tag\n",
    "    mlflow.set_tag(\"user_name\", getpass.getuser())\n",
    "    \n",
    "    # Log artifacts\n",
    "    sns_plot = sns.violinplot(x=\"x\", data=pd.DataFrame(columns=[\"x\"], data=np.random.randn(1000)))\n",
    "    fig = sns_plot.get_figure() \n",
    "    fig.savefig(\"fig.png\")\n",
    "    mlflow.log_artifact(\"fig.png\")"
   ]
  },
  {
   "cell_type": "markdown",
   "metadata": {},
   "source": [
    "Experiment can now be accessed with `mlflow ui` command."
   ]
  },
  {
   "cell_type": "markdown",
   "metadata": {},
   "source": [
    "## Monitoring"
   ]
  },
  {
   "cell_type": "code",
   "execution_count": 4,
   "metadata": {},
   "outputs": [],
   "source": [
    "# Create a new experiment or use existing one\n",
    "mlflow.set_experiment(experiment_name=\"monitoring\")\n",
    "\n",
    "# Start a ML flow experiment\n",
    "with mlflow.start_run():\n",
    "    for _ in range(60):\n",
    "        time.sleep(0.5)\n",
    "        mlflow.log_metric(\"metric\", random.random())"
   ]
  },
  {
   "cell_type": "markdown",
   "metadata": {},
   "source": [
    "## Hyperparameter optimization"
   ]
  },
  {
   "cell_type": "code",
   "execution_count": 5,
   "metadata": {},
   "outputs": [
    {
     "name": "stdout",
     "output_type": "stream",
     "text": [
      "100%|██████████| 100/100 [00:11<00:00, 10.76it/s, best loss: 0.0032241202620673704]\n"
     ]
    }
   ],
   "source": [
    "# Create a new experiment or use existing one\n",
    "mlflow.set_experiment(experiment_name=\"hyperopt\")\n",
    "\n",
    "# Objective function\n",
    "def objective(case, val):\n",
    "    return val if case == 'case 1' else val**2 \n",
    "\n",
    "# Wrap objective function to add mlflow loging\n",
    "def run_objective(args):\n",
    "    # Start a nested experiment\n",
    "    with mlflow.start_run(nested=True) as nested_run:      \n",
    "        case, val = args\n",
    "        \n",
    "        # Add tag\n",
    "        mlflow.set_tag(\"objective\", \"dummy\")\n",
    "        \n",
    "        # Log params\n",
    "        mlflow.log_param(\"case\", case)\n",
    "        mlflow.log_param(\"val\", val)\n",
    "\n",
    "        metric = objective(case=case, val=val)\n",
    "        \n",
    "        # Log metric\n",
    "        mlflow.log_metric(\"metric\", metric)\n",
    "        \n",
    "        return metric\n",
    "        \n",
    "# Define search space\n",
    "space = hp.choice('a',\n",
    "    [\n",
    "        ('case 1', 1 + hp.lognormal('c1', 0, 1)),\n",
    "        ('case 2', hp.uniform('c2', -10, 10))\n",
    "    ])\n",
    "        \n",
    "# Start ml flow run\n",
    "with mlflow.start_run() as run:   \n",
    "    best = fmin(run_objective, space, algo=tpe.suggest, max_evals=100)\n",
    "    \n",
    "    best_case, best_val = space_eval(space, best)\n",
    "    best_metric = objective(case=best_case, val=best_val)\n",
    "    \n",
    "    # Log params for best run\n",
    "    mlflow.log_param(\"case\", best_case)\n",
    "    mlflow.log_param(\"val\", best_val)\n",
    "    \n",
    "    # Log result for best run\n",
    "    mlflow.log_metric(\"metric\", best_metric)"
   ]
  },
  {
   "cell_type": "markdown",
   "metadata": {},
   "source": [
    "## Model history"
   ]
  },
  {
   "cell_type": "markdown",
   "metadata": {},
   "source": [
    "The `mlflow_project_model.py` script train a simple model and log it as an artifact. Let's run it."
   ]
  },
  {
   "cell_type": "code",
   "execution_count": 6,
   "metadata": {},
   "outputs": [
    {
     "name": "stdout",
     "output_type": "stream",
     "text": [
      "Starting run a8c5930c851c41719d2c5129cb315191\n",
      "Using Iris dataset\n",
      "Training multinomial logistic regression model\n",
      "Score on test set 0.9736842105263158\n"
     ]
    },
    {
     "name": "stderr",
     "output_type": "stream",
     "text": [
      "/home/k.villatel/.conda/envs/technical_presentations/lib/python3.6/site-packages/sklearn/linear_model/logistic.py:947: ConvergenceWarning: lbfgs failed to converge. Increase the number of iterations.\n",
      "  \"of iterations.\", ConvergenceWarning)\n"
     ]
    }
   ],
   "source": [
    "%%bash \n",
    "python mlflow_project_model.py"
   ]
  },
  {
   "cell_type": "markdown",
   "metadata": {},
   "source": [
    "While runing a .py file, mlflow log the commit hash for free. This is convenient to reproduce experiments. Good practice: run from a clean directory! <br>\n",
    "Logged model contains also all information about dependencies versions."
   ]
  },
  {
   "cell_type": "code",
   "execution_count": 7,
   "metadata": {},
   "outputs": [],
   "source": [
    "# Look at the mlflow ui and retrieve trained model id\n",
    "run_id = \"25e4df986cba4fa1bf42334e9076c6f3\""
   ]
  },
  {
   "cell_type": "code",
   "execution_count": 8,
   "metadata": {},
   "outputs": [
    {
     "data": {
      "text/plain": [
       "LogisticRegression(C=1.0, class_weight=None, dual=False, fit_intercept=True,\n",
       "                   intercept_scaling=1, l1_ratio=None, max_iter=100,\n",
       "                   multi_class='multinomial', n_jobs=None, penalty='l2',\n",
       "                   random_state=None, solver='lbfgs', tol=0.0001, verbose=0,\n",
       "                   warm_start=False)"
      ]
     },
     "execution_count": 8,
     "metadata": {},
     "output_type": "execute_result"
    }
   ],
   "source": [
    "# Load previously trained model\n",
    "classifier = mlflow.pyfunc.load_pyfunc(path='model', run_id=run_id)\n",
    "classifier"
   ]
  },
  {
   "cell_type": "markdown",
   "metadata": {},
   "source": [
    "## Packaging"
   ]
  },
  {
   "cell_type": "code",
   "execution_count": 9,
   "metadata": {},
   "outputs": [],
   "source": [
    "%pycat conda.yaml"
   ]
  },
  {
   "cell_type": "code",
   "execution_count": 10,
   "metadata": {},
   "outputs": [],
   "source": [
    "%pycat MLproject"
   ]
  },
  {
   "cell_type": "markdown",
   "metadata": {},
   "source": [
    "Run a local project"
   ]
  },
  {
   "cell_type": "code",
   "execution_count": 11,
   "metadata": {},
   "outputs": [
    {
     "name": "stdout",
     "output_type": "stream",
     "text": [
      "Starting run 4f5b887e7a7b49dd8314edaaece05289\n",
      "Using Iris dataset\n",
      "Training multinomial logistic regression model\n",
      "Score on test set 0.9473684210526315\n"
     ]
    },
    {
     "name": "stderr",
     "output_type": "stream",
     "text": [
      "2019/06/11 10:06:48 INFO mlflow.projects: === Created directory /tmp/tmptlqxktwb for downloading remote URIs passed to arguments of type 'path' ===\n",
      "2019/06/11 10:06:48 INFO mlflow.projects: === Running command 'source activate mlflow-d392d4dc1088117298648939bcdcf3fcbd700030 && python mlflow_project_model.py --seed=0 --max_iter=10' in run with ID '4f5b887e7a7b49dd8314edaaece05289' === \n",
      "/home/k.villatel/.conda/envs/mlflow-d392d4dc1088117298648939bcdcf3fcbd700030/lib/python3.6/site-packages/sklearn/linear_model/logistic.py:947: ConvergenceWarning: lbfgs failed to converge. Increase the number of iterations.\n",
      "  \"of iterations.\", ConvergenceWarning)\n",
      "2019/06/11 10:06:50 INFO mlflow.projects: === Run (ID '4f5b887e7a7b49dd8314edaaece05289') succeeded ===\n"
     ]
    }
   ],
   "source": [
    "%%bash\n",
    "mlflow run . -P max_iter=10"
   ]
  },
  {
   "cell_type": "markdown",
   "metadata": {},
   "source": [
    "Run a distant project"
   ]
  },
  {
   "cell_type": "code",
   "execution_count": 12,
   "metadata": {
    "scrolled": true
   },
   "outputs": [
    {
     "name": "stdout",
     "output_type": "stream",
     "text": [
      "Starting run 7aeeba74397d456386eade5aefda128b\n",
      "Using Iris dataset\n",
      "Training multinomial logistic regression model\n",
      "Score on test set 0.9736842105263158\n"
     ]
    },
    {
     "name": "stderr",
     "output_type": "stream",
     "text": [
      "2019/06/11 10:06:51 INFO mlflow.projects: === Fetching project from https://github.com/KiewanVillatel/technical_presentations.git into /tmp/tmp8m9bd4_s ===\n",
      "2019/06/11 10:06:53 INFO mlflow.projects: === Created directory /tmp/tmpcw9am6ca for downloading remote URIs passed to arguments of type 'path' ===\n",
      "2019/06/11 10:06:53 INFO mlflow.projects: === Running command 'source activate mlflow-d392d4dc1088117298648939bcdcf3fcbd700030 && python mlflow_project_model.py --seed=0' in run with ID '7aeeba74397d456386eade5aefda128b' === \n",
      "/home/k.villatel/.conda/envs/mlflow-d392d4dc1088117298648939bcdcf3fcbd700030/lib/python3.6/site-packages/sklearn/linear_model/logistic.py:947: ConvergenceWarning: lbfgs failed to converge. Increase the number of iterations.\n",
      "  \"of iterations.\", ConvergenceWarning)\n",
      "2019/06/11 10:06:54 INFO mlflow.projects: === Run (ID '7aeeba74397d456386eade5aefda128b') succeeded ===\n"
     ]
    }
   ],
   "source": [
    "%%bash\n",
    "mlflow run https://github.com/KiewanVillatel/technical_presentations.git"
   ]
  },
  {
   "cell_type": "code",
   "execution_count": 13,
   "metadata": {},
   "outputs": [
    {
     "name": "stdout",
     "output_type": "stream",
     "text": [
      "Starting run bb2a15faba6e402a8dbd2c91b65da811\n"
     ]
    },
    {
     "name": "stderr",
     "output_type": "stream",
     "text": [
      "2019/06/11 10:06:56 INFO mlflow.projects: === Fetching project from https://github.com/KiewanVillatel/technical_presentations.git into /tmp/tmps9nchy7v ===\n",
      "2019/06/11 10:06:58 INFO mlflow.projects: === Created directory /tmp/tmpu65f1vpt for downloading remote URIs passed to arguments of type 'path' ===\n",
      "2019/06/11 10:06:58 INFO mlflow.projects: === Running command 'source activate mlflow-d392d4dc1088117298648939bcdcf3fcbd700030 && python mlflow_project_model.py --seed=0' in run with ID 'bb2a15faba6e402a8dbd2c91b65da811' === \n",
      "/home/k.villatel/.conda/envs/mlflow-d392d4dc1088117298648939bcdcf3fcbd700030/lib/python3.6/site-packages/sklearn/linear_model/logistic.py:947: ConvergenceWarning: lbfgs failed to converge. Increase the number of iterations.\n",
      "  \"of iterations.\", ConvergenceWarning)\n",
      "2019/06/11 10:07:00 INFO mlflow.projects: === Run (ID 'bb2a15faba6e402a8dbd2c91b65da811') succeeded ===\n"
     ]
    }
   ],
   "source": [
    "%%bash\n",
    "mlflow run https://github.com/KiewanVillatel/technical_presentations.git -v 3655ae"
   ]
  },
  {
   "cell_type": "markdown",
   "metadata": {},
   "source": [
    "Going further: https://mlflow.org/"
   ]
  }
 ],
 "metadata": {
  "kernelspec": {
   "display_name": "Python 3",
   "language": "python",
   "name": "python3"
  },
  "language_info": {
   "codemirror_mode": {
    "name": "ipython",
    "version": 3
   },
   "file_extension": ".py",
   "mimetype": "text/x-python",
   "name": "python",
   "nbconvert_exporter": "python",
   "pygments_lexer": "ipython3",
   "version": "3.6.8"
  }
 },
 "nbformat": 4,
 "nbformat_minor": 2
}
